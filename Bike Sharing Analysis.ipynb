{
 "cells": [
  {
   "cell_type": "markdown",
   "id": "6b2b3589",
   "metadata": {},
   "source": [
    "## SET11121 002 - Data Wrangling"
   ]
  },
  {
   "cell_type": "markdown",
   "id": "345ccf6b",
   "metadata": {},
   "source": [
    "### Importing modules"
   ]
  },
  {
   "cell_type": "code",
   "execution_count": 135,
   "id": "e71c8d68",
   "metadata": {},
   "outputs": [],
   "source": [
    "import numpy as np\n",
    "import pandas as pd\n",
    "import seaborn as sns\n",
    "import matplotlib.pyplot as plt\n",
    "import warnings\n",
    "\n",
    "%matplotlib inline\n",
    "warnings.filterwarnings('ignore')\n",
    "pd.options.display.max_columns = 999"
   ]
  },
  {
   "cell_type": "markdown",
   "id": "624a9d1a",
   "metadata": {},
   "source": [
    "### Loading the dataset"
   ]
  },
  {
   "cell_type": "code",
   "execution_count": 136,
   "id": "e382b3b9",
   "metadata": {},
   "outputs": [],
   "source": [
    "df = pd.read_csv(r\"C:\\Users\\disha\\Downloads\\bike_sharing_dataset\\hour.csv\")"
   ]
  },
  {
   "cell_type": "markdown",
   "id": "b0cfc4eb",
   "metadata": {},
   "source": [
    "We will be using hour.csv as our dataset because the only difference between day.csv and hour.csv is that day.csv doesn't have the hr column."
   ]
  },
  {
   "cell_type": "markdown",
   "id": "bca8059d",
   "metadata": {},
   "source": [
    "#### Displaying the dataset"
   ]
  },
  {
   "cell_type": "code",
   "execution_count": 143,
   "id": "feb676bc",
   "metadata": {},
   "outputs": [
    {
     "data": {
      "text/html": [
       "<div>\n",
       "<style scoped>\n",
       "    .dataframe tbody tr th:only-of-type {\n",
       "        vertical-align: middle;\n",
       "    }\n",
       "\n",
       "    .dataframe tbody tr th {\n",
       "        vertical-align: top;\n",
       "    }\n",
       "\n",
       "    .dataframe thead th {\n",
       "        text-align: right;\n",
       "    }\n",
       "</style>\n",
       "<table border=\"1\" class=\"dataframe\">\n",
       "  <thead>\n",
       "    <tr style=\"text-align: right;\">\n",
       "      <th></th>\n",
       "      <th>instant</th>\n",
       "      <th>dteday</th>\n",
       "      <th>season</th>\n",
       "      <th>yr</th>\n",
       "      <th>mnth</th>\n",
       "      <th>hr</th>\n",
       "      <th>holiday</th>\n",
       "      <th>weekday</th>\n",
       "      <th>workingday</th>\n",
       "      <th>weathersit</th>\n",
       "      <th>temp</th>\n",
       "      <th>atemp</th>\n",
       "      <th>hum</th>\n",
       "      <th>windspeed</th>\n",
       "      <th>casual</th>\n",
       "      <th>registered</th>\n",
       "      <th>cnt</th>\n",
       "    </tr>\n",
       "  </thead>\n",
       "  <tbody>\n",
       "    <tr>\n",
       "      <th>0</th>\n",
       "      <td>1</td>\n",
       "      <td>2011-01-01</td>\n",
       "      <td>1</td>\n",
       "      <td>0</td>\n",
       "      <td>1</td>\n",
       "      <td>0</td>\n",
       "      <td>0</td>\n",
       "      <td>6</td>\n",
       "      <td>0</td>\n",
       "      <td>1</td>\n",
       "      <td>0.24</td>\n",
       "      <td>0.2879</td>\n",
       "      <td>0.81</td>\n",
       "      <td>0.0</td>\n",
       "      <td>3</td>\n",
       "      <td>13</td>\n",
       "      <td>16</td>\n",
       "    </tr>\n",
       "    <tr>\n",
       "      <th>1</th>\n",
       "      <td>2</td>\n",
       "      <td>2011-01-01</td>\n",
       "      <td>1</td>\n",
       "      <td>0</td>\n",
       "      <td>1</td>\n",
       "      <td>1</td>\n",
       "      <td>0</td>\n",
       "      <td>6</td>\n",
       "      <td>0</td>\n",
       "      <td>1</td>\n",
       "      <td>0.22</td>\n",
       "      <td>0.2727</td>\n",
       "      <td>0.80</td>\n",
       "      <td>0.0</td>\n",
       "      <td>8</td>\n",
       "      <td>32</td>\n",
       "      <td>40</td>\n",
       "    </tr>\n",
       "    <tr>\n",
       "      <th>2</th>\n",
       "      <td>3</td>\n",
       "      <td>2011-01-01</td>\n",
       "      <td>1</td>\n",
       "      <td>0</td>\n",
       "      <td>1</td>\n",
       "      <td>2</td>\n",
       "      <td>0</td>\n",
       "      <td>6</td>\n",
       "      <td>0</td>\n",
       "      <td>1</td>\n",
       "      <td>0.22</td>\n",
       "      <td>0.2727</td>\n",
       "      <td>0.80</td>\n",
       "      <td>0.0</td>\n",
       "      <td>5</td>\n",
       "      <td>27</td>\n",
       "      <td>32</td>\n",
       "    </tr>\n",
       "    <tr>\n",
       "      <th>3</th>\n",
       "      <td>4</td>\n",
       "      <td>2011-01-01</td>\n",
       "      <td>1</td>\n",
       "      <td>0</td>\n",
       "      <td>1</td>\n",
       "      <td>3</td>\n",
       "      <td>0</td>\n",
       "      <td>6</td>\n",
       "      <td>0</td>\n",
       "      <td>1</td>\n",
       "      <td>0.24</td>\n",
       "      <td>0.2879</td>\n",
       "      <td>0.75</td>\n",
       "      <td>0.0</td>\n",
       "      <td>3</td>\n",
       "      <td>10</td>\n",
       "      <td>13</td>\n",
       "    </tr>\n",
       "    <tr>\n",
       "      <th>4</th>\n",
       "      <td>5</td>\n",
       "      <td>2011-01-01</td>\n",
       "      <td>1</td>\n",
       "      <td>0</td>\n",
       "      <td>1</td>\n",
       "      <td>4</td>\n",
       "      <td>0</td>\n",
       "      <td>6</td>\n",
       "      <td>0</td>\n",
       "      <td>1</td>\n",
       "      <td>0.24</td>\n",
       "      <td>0.2879</td>\n",
       "      <td>0.75</td>\n",
       "      <td>0.0</td>\n",
       "      <td>0</td>\n",
       "      <td>1</td>\n",
       "      <td>1</td>\n",
       "    </tr>\n",
       "  </tbody>\n",
       "</table>\n",
       "</div>"
      ],
      "text/plain": [
       "   instant      dteday  season  yr  mnth  hr  holiday  weekday  workingday  \\\n",
       "0        1  2011-01-01       1   0     1   0        0        6           0   \n",
       "1        2  2011-01-01       1   0     1   1        0        6           0   \n",
       "2        3  2011-01-01       1   0     1   2        0        6           0   \n",
       "3        4  2011-01-01       1   0     1   3        0        6           0   \n",
       "4        5  2011-01-01       1   0     1   4        0        6           0   \n",
       "\n",
       "   weathersit  temp   atemp   hum  windspeed  casual  registered  cnt  \n",
       "0           1  0.24  0.2879  0.81        0.0       3          13   16  \n",
       "1           1  0.22  0.2727  0.80        0.0       8          32   40  \n",
       "2           1  0.22  0.2727  0.80        0.0       5          27   32  \n",
       "3           1  0.24  0.2879  0.75        0.0       3          10   13  \n",
       "4           1  0.24  0.2879  0.75        0.0       0           1    1  "
      ]
     },
     "execution_count": 143,
     "metadata": {},
     "output_type": "execute_result"
    }
   ],
   "source": [
    "df.head()"
   ]
  },
  {
   "cell_type": "markdown",
   "id": "7a1037a4",
   "metadata": {},
   "source": [
    "### Question 1"
   ]
  },
  {
   "cell_type": "markdown",
   "id": "7efc7f95",
   "metadata": {},
   "source": [
    "### Create a dataframe for the following information:"
   ]
  },
  {
   "cell_type": "markdown",
   "id": "2a36360f",
   "metadata": {},
   "source": [
    "#### 1)  average counts for 2011 across months and seasons"
   ]
  },
  {
   "cell_type": "markdown",
   "id": "f19fb3ca",
   "metadata": {},
   "source": [
    "Filter data to show only records from the year 2011"
   ]
  },
  {
   "cell_type": "code",
   "execution_count": 125,
   "id": "0308580f",
   "metadata": {},
   "outputs": [
    {
     "data": {
      "text/html": [
       "<div>\n",
       "<style scoped>\n",
       "    .dataframe tbody tr th:only-of-type {\n",
       "        vertical-align: middle;\n",
       "    }\n",
       "\n",
       "    .dataframe tbody tr th {\n",
       "        vertical-align: top;\n",
       "    }\n",
       "\n",
       "    .dataframe thead th {\n",
       "        text-align: right;\n",
       "    }\n",
       "</style>\n",
       "<table border=\"1\" class=\"dataframe\">\n",
       "  <thead>\n",
       "    <tr style=\"text-align: right;\">\n",
       "      <th></th>\n",
       "      <th>instant</th>\n",
       "      <th>dteday</th>\n",
       "      <th>season</th>\n",
       "      <th>yr</th>\n",
       "      <th>mnth</th>\n",
       "      <th>hr</th>\n",
       "      <th>holiday</th>\n",
       "      <th>weekday</th>\n",
       "      <th>workingday</th>\n",
       "      <th>weathersit</th>\n",
       "      <th>temp</th>\n",
       "      <th>atemp</th>\n",
       "      <th>hum</th>\n",
       "      <th>windspeed</th>\n",
       "      <th>casual</th>\n",
       "      <th>registered</th>\n",
       "      <th>cnt</th>\n",
       "    </tr>\n",
       "  </thead>\n",
       "  <tbody>\n",
       "    <tr>\n",
       "      <th>0</th>\n",
       "      <td>1</td>\n",
       "      <td>2011-01-01</td>\n",
       "      <td>1</td>\n",
       "      <td>0</td>\n",
       "      <td>1</td>\n",
       "      <td>0</td>\n",
       "      <td>0</td>\n",
       "      <td>6</td>\n",
       "      <td>0</td>\n",
       "      <td>1</td>\n",
       "      <td>0.24</td>\n",
       "      <td>0.2879</td>\n",
       "      <td>0.81</td>\n",
       "      <td>0.0000</td>\n",
       "      <td>3</td>\n",
       "      <td>13</td>\n",
       "      <td>16</td>\n",
       "    </tr>\n",
       "    <tr>\n",
       "      <th>1</th>\n",
       "      <td>2</td>\n",
       "      <td>2011-01-01</td>\n",
       "      <td>1</td>\n",
       "      <td>0</td>\n",
       "      <td>1</td>\n",
       "      <td>1</td>\n",
       "      <td>0</td>\n",
       "      <td>6</td>\n",
       "      <td>0</td>\n",
       "      <td>1</td>\n",
       "      <td>0.22</td>\n",
       "      <td>0.2727</td>\n",
       "      <td>0.80</td>\n",
       "      <td>0.0000</td>\n",
       "      <td>8</td>\n",
       "      <td>32</td>\n",
       "      <td>40</td>\n",
       "    </tr>\n",
       "    <tr>\n",
       "      <th>2</th>\n",
       "      <td>3</td>\n",
       "      <td>2011-01-01</td>\n",
       "      <td>1</td>\n",
       "      <td>0</td>\n",
       "      <td>1</td>\n",
       "      <td>2</td>\n",
       "      <td>0</td>\n",
       "      <td>6</td>\n",
       "      <td>0</td>\n",
       "      <td>1</td>\n",
       "      <td>0.22</td>\n",
       "      <td>0.2727</td>\n",
       "      <td>0.80</td>\n",
       "      <td>0.0000</td>\n",
       "      <td>5</td>\n",
       "      <td>27</td>\n",
       "      <td>32</td>\n",
       "    </tr>\n",
       "    <tr>\n",
       "      <th>3</th>\n",
       "      <td>4</td>\n",
       "      <td>2011-01-01</td>\n",
       "      <td>1</td>\n",
       "      <td>0</td>\n",
       "      <td>1</td>\n",
       "      <td>3</td>\n",
       "      <td>0</td>\n",
       "      <td>6</td>\n",
       "      <td>0</td>\n",
       "      <td>1</td>\n",
       "      <td>0.24</td>\n",
       "      <td>0.2879</td>\n",
       "      <td>0.75</td>\n",
       "      <td>0.0000</td>\n",
       "      <td>3</td>\n",
       "      <td>10</td>\n",
       "      <td>13</td>\n",
       "    </tr>\n",
       "    <tr>\n",
       "      <th>4</th>\n",
       "      <td>5</td>\n",
       "      <td>2011-01-01</td>\n",
       "      <td>1</td>\n",
       "      <td>0</td>\n",
       "      <td>1</td>\n",
       "      <td>4</td>\n",
       "      <td>0</td>\n",
       "      <td>6</td>\n",
       "      <td>0</td>\n",
       "      <td>1</td>\n",
       "      <td>0.24</td>\n",
       "      <td>0.2879</td>\n",
       "      <td>0.75</td>\n",
       "      <td>0.0000</td>\n",
       "      <td>0</td>\n",
       "      <td>1</td>\n",
       "      <td>1</td>\n",
       "    </tr>\n",
       "    <tr>\n",
       "      <th>...</th>\n",
       "      <td>...</td>\n",
       "      <td>...</td>\n",
       "      <td>...</td>\n",
       "      <td>...</td>\n",
       "      <td>...</td>\n",
       "      <td>...</td>\n",
       "      <td>...</td>\n",
       "      <td>...</td>\n",
       "      <td>...</td>\n",
       "      <td>...</td>\n",
       "      <td>...</td>\n",
       "      <td>...</td>\n",
       "      <td>...</td>\n",
       "      <td>...</td>\n",
       "      <td>...</td>\n",
       "      <td>...</td>\n",
       "      <td>...</td>\n",
       "    </tr>\n",
       "    <tr>\n",
       "      <th>8640</th>\n",
       "      <td>8641</td>\n",
       "      <td>2011-12-31</td>\n",
       "      <td>1</td>\n",
       "      <td>0</td>\n",
       "      <td>12</td>\n",
       "      <td>19</td>\n",
       "      <td>0</td>\n",
       "      <td>6</td>\n",
       "      <td>0</td>\n",
       "      <td>1</td>\n",
       "      <td>0.42</td>\n",
       "      <td>0.4242</td>\n",
       "      <td>0.54</td>\n",
       "      <td>0.2239</td>\n",
       "      <td>19</td>\n",
       "      <td>73</td>\n",
       "      <td>92</td>\n",
       "    </tr>\n",
       "    <tr>\n",
       "      <th>8641</th>\n",
       "      <td>8642</td>\n",
       "      <td>2011-12-31</td>\n",
       "      <td>1</td>\n",
       "      <td>0</td>\n",
       "      <td>12</td>\n",
       "      <td>20</td>\n",
       "      <td>0</td>\n",
       "      <td>6</td>\n",
       "      <td>0</td>\n",
       "      <td>1</td>\n",
       "      <td>0.42</td>\n",
       "      <td>0.4242</td>\n",
       "      <td>0.54</td>\n",
       "      <td>0.2239</td>\n",
       "      <td>8</td>\n",
       "      <td>63</td>\n",
       "      <td>71</td>\n",
       "    </tr>\n",
       "    <tr>\n",
       "      <th>8642</th>\n",
       "      <td>8643</td>\n",
       "      <td>2011-12-31</td>\n",
       "      <td>1</td>\n",
       "      <td>0</td>\n",
       "      <td>12</td>\n",
       "      <td>21</td>\n",
       "      <td>0</td>\n",
       "      <td>6</td>\n",
       "      <td>0</td>\n",
       "      <td>1</td>\n",
       "      <td>0.40</td>\n",
       "      <td>0.4091</td>\n",
       "      <td>0.58</td>\n",
       "      <td>0.1940</td>\n",
       "      <td>2</td>\n",
       "      <td>50</td>\n",
       "      <td>52</td>\n",
       "    </tr>\n",
       "    <tr>\n",
       "      <th>8643</th>\n",
       "      <td>8644</td>\n",
       "      <td>2011-12-31</td>\n",
       "      <td>1</td>\n",
       "      <td>0</td>\n",
       "      <td>12</td>\n",
       "      <td>22</td>\n",
       "      <td>0</td>\n",
       "      <td>6</td>\n",
       "      <td>0</td>\n",
       "      <td>1</td>\n",
       "      <td>0.38</td>\n",
       "      <td>0.3939</td>\n",
       "      <td>0.62</td>\n",
       "      <td>0.1343</td>\n",
       "      <td>2</td>\n",
       "      <td>36</td>\n",
       "      <td>38</td>\n",
       "    </tr>\n",
       "    <tr>\n",
       "      <th>8644</th>\n",
       "      <td>8645</td>\n",
       "      <td>2011-12-31</td>\n",
       "      <td>1</td>\n",
       "      <td>0</td>\n",
       "      <td>12</td>\n",
       "      <td>23</td>\n",
       "      <td>0</td>\n",
       "      <td>6</td>\n",
       "      <td>0</td>\n",
       "      <td>1</td>\n",
       "      <td>0.36</td>\n",
       "      <td>0.3788</td>\n",
       "      <td>0.66</td>\n",
       "      <td>0.0000</td>\n",
       "      <td>4</td>\n",
       "      <td>27</td>\n",
       "      <td>31</td>\n",
       "    </tr>\n",
       "  </tbody>\n",
       "</table>\n",
       "<p>8645 rows × 17 columns</p>\n",
       "</div>"
      ],
      "text/plain": [
       "      instant      dteday  season  yr  mnth  hr  holiday  weekday  workingday  \\\n",
       "0           1  2011-01-01       1   0     1   0        0        6           0   \n",
       "1           2  2011-01-01       1   0     1   1        0        6           0   \n",
       "2           3  2011-01-01       1   0     1   2        0        6           0   \n",
       "3           4  2011-01-01       1   0     1   3        0        6           0   \n",
       "4           5  2011-01-01       1   0     1   4        0        6           0   \n",
       "...       ...         ...     ...  ..   ...  ..      ...      ...         ...   \n",
       "8640     8641  2011-12-31       1   0    12  19        0        6           0   \n",
       "8641     8642  2011-12-31       1   0    12  20        0        6           0   \n",
       "8642     8643  2011-12-31       1   0    12  21        0        6           0   \n",
       "8643     8644  2011-12-31       1   0    12  22        0        6           0   \n",
       "8644     8645  2011-12-31       1   0    12  23        0        6           0   \n",
       "\n",
       "      weathersit  temp   atemp   hum  windspeed  casual  registered  cnt  \n",
       "0              1  0.24  0.2879  0.81     0.0000       3          13   16  \n",
       "1              1  0.22  0.2727  0.80     0.0000       8          32   40  \n",
       "2              1  0.22  0.2727  0.80     0.0000       5          27   32  \n",
       "3              1  0.24  0.2879  0.75     0.0000       3          10   13  \n",
       "4              1  0.24  0.2879  0.75     0.0000       0           1    1  \n",
       "...          ...   ...     ...   ...        ...     ...         ...  ...  \n",
       "8640           1  0.42  0.4242  0.54     0.2239      19          73   92  \n",
       "8641           1  0.42  0.4242  0.54     0.2239       8          63   71  \n",
       "8642           1  0.40  0.4091  0.58     0.1940       2          50   52  \n",
       "8643           1  0.38  0.3939  0.62     0.1343       2          36   38  \n",
       "8644           1  0.36  0.3788  0.66     0.0000       4          27   31  \n",
       "\n",
       "[8645 rows x 17 columns]"
      ]
     },
     "execution_count": 125,
     "metadata": {},
     "output_type": "execute_result"
    }
   ],
   "source": [
    "df_2011 = df[df['yr']==0]\n",
    "df_2011"
   ]
  },
  {
   "cell_type": "markdown",
   "id": "fbf71fab",
   "metadata": {},
   "source": [
    "Calculate the average count for each month"
   ]
  },
  {
   "cell_type": "code",
   "execution_count": 88,
   "id": "314d1766",
   "metadata": {},
   "outputs": [],
   "source": [
    "monthly_average = df_2011.groupby('mnth').agg({'cnt': 'mean'})"
   ]
  },
  {
   "cell_type": "markdown",
   "id": "2800ee96",
   "metadata": {},
   "source": [
    "Define the seasons and map for each month to a season"
   ]
  },
  {
   "cell_type": "code",
   "execution_count": 89,
   "id": "b07c2bd9",
   "metadata": {},
   "outputs": [],
   "source": [
    "seasons = {1: 'Winter', 2: 'Winter', 3: 'Spring', 4: 'Spring', 5: 'Spring', \n",
    "           6: 'Summer', 7: 'Summer', 8: 'Summer', 9: 'Fall', 10: 'Fall', \n",
    "           11: 'Fall', 12: 'Winter'}\n",
    "df_2011['season'] = df_2011['mnth'].map(seasons)"
   ]
  },
  {
   "cell_type": "markdown",
   "id": "011129e8",
   "metadata": {},
   "source": [
    "Calculate the average count for each season"
   ]
  },
  {
   "cell_type": "code",
   "execution_count": 90,
   "id": "bbb91abc",
   "metadata": {},
   "outputs": [],
   "source": [
    "seasonal_average = df_2011.groupby('season').agg({'cnt': 'mean'})"
   ]
  },
  {
   "cell_type": "markdown",
   "id": "c03ff710",
   "metadata": {},
   "source": [
    "Displaying the average counts across months and seasons"
   ]
  },
  {
   "cell_type": "code",
   "execution_count": 91,
   "id": "37033ab4",
   "metadata": {},
   "outputs": [
    {
     "data": {
      "text/html": [
       "<div>\n",
       "<style scoped>\n",
       "    .dataframe tbody tr th:only-of-type {\n",
       "        vertical-align: middle;\n",
       "    }\n",
       "\n",
       "    .dataframe tbody tr th {\n",
       "        vertical-align: top;\n",
       "    }\n",
       "\n",
       "    .dataframe thead th {\n",
       "        text-align: right;\n",
       "    }\n",
       "</style>\n",
       "<table border=\"1\" class=\"dataframe\">\n",
       "  <thead>\n",
       "    <tr style=\"text-align: right;\">\n",
       "      <th></th>\n",
       "      <th>cnt</th>\n",
       "    </tr>\n",
       "    <tr>\n",
       "      <th>mnth</th>\n",
       "      <th></th>\n",
       "    </tr>\n",
       "  </thead>\n",
       "  <tbody>\n",
       "    <tr>\n",
       "      <th>1</th>\n",
       "      <td>55.507267</td>\n",
       "    </tr>\n",
       "    <tr>\n",
       "      <th>2</th>\n",
       "      <td>74.291217</td>\n",
       "    </tr>\n",
       "    <tr>\n",
       "      <th>3</th>\n",
       "      <td>87.732877</td>\n",
       "    </tr>\n",
       "    <tr>\n",
       "      <th>4</th>\n",
       "      <td>131.947149</td>\n",
       "    </tr>\n",
       "    <tr>\n",
       "      <th>5</th>\n",
       "      <td>182.555108</td>\n",
       "    </tr>\n",
       "    <tr>\n",
       "      <th>6</th>\n",
       "      <td>199.322222</td>\n",
       "    </tr>\n",
       "    <tr>\n",
       "      <th>7</th>\n",
       "      <td>189.974462</td>\n",
       "    </tr>\n",
       "    <tr>\n",
       "      <th>8</th>\n",
       "      <td>186.991792</td>\n",
       "    </tr>\n",
       "    <tr>\n",
       "      <th>9</th>\n",
       "      <td>177.709902</td>\n",
       "    </tr>\n",
       "    <tr>\n",
       "      <th>10</th>\n",
       "      <td>166.232840</td>\n",
       "    </tr>\n",
       "    <tr>\n",
       "      <th>11</th>\n",
       "      <td>142.095967</td>\n",
       "    </tr>\n",
       "    <tr>\n",
       "      <th>12</th>\n",
       "      <td>117.844804</td>\n",
       "    </tr>\n",
       "  </tbody>\n",
       "</table>\n",
       "</div>"
      ],
      "text/plain": [
       "             cnt\n",
       "mnth            \n",
       "1      55.507267\n",
       "2      74.291217\n",
       "3      87.732877\n",
       "4     131.947149\n",
       "5     182.555108\n",
       "6     199.322222\n",
       "7     189.974462\n",
       "8     186.991792\n",
       "9     177.709902\n",
       "10    166.232840\n",
       "11    142.095967\n",
       "12    117.844804"
      ]
     },
     "execution_count": 91,
     "metadata": {},
     "output_type": "execute_result"
    }
   ],
   "source": [
    "monthly_average"
   ]
  },
  {
   "cell_type": "code",
   "execution_count": 9,
   "id": "d2efff43",
   "metadata": {},
   "outputs": [
    {
     "data": {
      "text/html": [
       "<div>\n",
       "<style scoped>\n",
       "    .dataframe tbody tr th:only-of-type {\n",
       "        vertical-align: middle;\n",
       "    }\n",
       "\n",
       "    .dataframe tbody tr th {\n",
       "        vertical-align: top;\n",
       "    }\n",
       "\n",
       "    .dataframe thead th {\n",
       "        text-align: right;\n",
       "    }\n",
       "</style>\n",
       "<table border=\"1\" class=\"dataframe\">\n",
       "  <thead>\n",
       "    <tr style=\"text-align: right;\">\n",
       "      <th></th>\n",
       "      <th>cnt</th>\n",
       "    </tr>\n",
       "    <tr>\n",
       "      <th>season</th>\n",
       "      <th></th>\n",
       "    </tr>\n",
       "  </thead>\n",
       "  <tbody>\n",
       "    <tr>\n",
       "      <th>Fall</th>\n",
       "      <td>162.044975</td>\n",
       "    </tr>\n",
       "    <tr>\n",
       "      <th>Spring</th>\n",
       "      <td>134.398541</td>\n",
       "    </tr>\n",
       "    <tr>\n",
       "      <th>Summer</th>\n",
       "      <td>192.047380</td>\n",
       "    </tr>\n",
       "    <tr>\n",
       "      <th>Winter</th>\n",
       "      <td>83.602984</td>\n",
       "    </tr>\n",
       "  </tbody>\n",
       "</table>\n",
       "</div>"
      ],
      "text/plain": [
       "               cnt\n",
       "season            \n",
       "Fall    162.044975\n",
       "Spring  134.398541\n",
       "Summer  192.047380\n",
       "Winter   83.602984"
      ]
     },
     "execution_count": 9,
     "metadata": {},
     "output_type": "execute_result"
    }
   ],
   "source": [
    "seasonal_average"
   ]
  },
  {
   "cell_type": "markdown",
   "id": "87f3769d",
   "metadata": {},
   "source": [
    "#### 2)  average counts for 2012 across months and seasons"
   ]
  },
  {
   "cell_type": "markdown",
   "id": "769db905",
   "metadata": {},
   "source": [
    "Filter data to show only records from the year 2012"
   ]
  },
  {
   "cell_type": "code",
   "execution_count": 92,
   "id": "a5a0dc7e",
   "metadata": {},
   "outputs": [
    {
     "data": {
      "text/html": [
       "<div>\n",
       "<style scoped>\n",
       "    .dataframe tbody tr th:only-of-type {\n",
       "        vertical-align: middle;\n",
       "    }\n",
       "\n",
       "    .dataframe tbody tr th {\n",
       "        vertical-align: top;\n",
       "    }\n",
       "\n",
       "    .dataframe thead th {\n",
       "        text-align: right;\n",
       "    }\n",
       "</style>\n",
       "<table border=\"1\" class=\"dataframe\">\n",
       "  <thead>\n",
       "    <tr style=\"text-align: right;\">\n",
       "      <th></th>\n",
       "      <th>instant</th>\n",
       "      <th>dteday</th>\n",
       "      <th>season</th>\n",
       "      <th>yr</th>\n",
       "      <th>mnth</th>\n",
       "      <th>hr</th>\n",
       "      <th>holiday</th>\n",
       "      <th>weekday</th>\n",
       "      <th>workingday</th>\n",
       "      <th>weathersit</th>\n",
       "      <th>temp</th>\n",
       "      <th>atemp</th>\n",
       "      <th>hum</th>\n",
       "      <th>windspeed</th>\n",
       "      <th>casual</th>\n",
       "      <th>registered</th>\n",
       "      <th>cnt</th>\n",
       "    </tr>\n",
       "  </thead>\n",
       "  <tbody>\n",
       "    <tr>\n",
       "      <th>8645</th>\n",
       "      <td>8646</td>\n",
       "      <td>2012-01-01</td>\n",
       "      <td>1</td>\n",
       "      <td>1</td>\n",
       "      <td>1</td>\n",
       "      <td>0</td>\n",
       "      <td>0</td>\n",
       "      <td>0</td>\n",
       "      <td>0</td>\n",
       "      <td>1</td>\n",
       "      <td>0.36</td>\n",
       "      <td>0.3788</td>\n",
       "      <td>0.66</td>\n",
       "      <td>0.0000</td>\n",
       "      <td>5</td>\n",
       "      <td>43</td>\n",
       "      <td>48</td>\n",
       "    </tr>\n",
       "    <tr>\n",
       "      <th>8646</th>\n",
       "      <td>8647</td>\n",
       "      <td>2012-01-01</td>\n",
       "      <td>1</td>\n",
       "      <td>1</td>\n",
       "      <td>1</td>\n",
       "      <td>1</td>\n",
       "      <td>0</td>\n",
       "      <td>0</td>\n",
       "      <td>0</td>\n",
       "      <td>1</td>\n",
       "      <td>0.36</td>\n",
       "      <td>0.3485</td>\n",
       "      <td>0.66</td>\n",
       "      <td>0.1343</td>\n",
       "      <td>15</td>\n",
       "      <td>78</td>\n",
       "      <td>93</td>\n",
       "    </tr>\n",
       "    <tr>\n",
       "      <th>8647</th>\n",
       "      <td>8648</td>\n",
       "      <td>2012-01-01</td>\n",
       "      <td>1</td>\n",
       "      <td>1</td>\n",
       "      <td>1</td>\n",
       "      <td>2</td>\n",
       "      <td>0</td>\n",
       "      <td>0</td>\n",
       "      <td>0</td>\n",
       "      <td>1</td>\n",
       "      <td>0.32</td>\n",
       "      <td>0.3485</td>\n",
       "      <td>0.76</td>\n",
       "      <td>0.0000</td>\n",
       "      <td>16</td>\n",
       "      <td>59</td>\n",
       "      <td>75</td>\n",
       "    </tr>\n",
       "    <tr>\n",
       "      <th>8648</th>\n",
       "      <td>8649</td>\n",
       "      <td>2012-01-01</td>\n",
       "      <td>1</td>\n",
       "      <td>1</td>\n",
       "      <td>1</td>\n",
       "      <td>3</td>\n",
       "      <td>0</td>\n",
       "      <td>0</td>\n",
       "      <td>0</td>\n",
       "      <td>1</td>\n",
       "      <td>0.30</td>\n",
       "      <td>0.3333</td>\n",
       "      <td>0.81</td>\n",
       "      <td>0.0000</td>\n",
       "      <td>11</td>\n",
       "      <td>41</td>\n",
       "      <td>52</td>\n",
       "    </tr>\n",
       "    <tr>\n",
       "      <th>8649</th>\n",
       "      <td>8650</td>\n",
       "      <td>2012-01-01</td>\n",
       "      <td>1</td>\n",
       "      <td>1</td>\n",
       "      <td>1</td>\n",
       "      <td>4</td>\n",
       "      <td>0</td>\n",
       "      <td>0</td>\n",
       "      <td>0</td>\n",
       "      <td>1</td>\n",
       "      <td>0.28</td>\n",
       "      <td>0.3030</td>\n",
       "      <td>0.81</td>\n",
       "      <td>0.0896</td>\n",
       "      <td>0</td>\n",
       "      <td>8</td>\n",
       "      <td>8</td>\n",
       "    </tr>\n",
       "    <tr>\n",
       "      <th>...</th>\n",
       "      <td>...</td>\n",
       "      <td>...</td>\n",
       "      <td>...</td>\n",
       "      <td>...</td>\n",
       "      <td>...</td>\n",
       "      <td>...</td>\n",
       "      <td>...</td>\n",
       "      <td>...</td>\n",
       "      <td>...</td>\n",
       "      <td>...</td>\n",
       "      <td>...</td>\n",
       "      <td>...</td>\n",
       "      <td>...</td>\n",
       "      <td>...</td>\n",
       "      <td>...</td>\n",
       "      <td>...</td>\n",
       "      <td>...</td>\n",
       "    </tr>\n",
       "    <tr>\n",
       "      <th>17374</th>\n",
       "      <td>17375</td>\n",
       "      <td>2012-12-31</td>\n",
       "      <td>1</td>\n",
       "      <td>1</td>\n",
       "      <td>12</td>\n",
       "      <td>19</td>\n",
       "      <td>0</td>\n",
       "      <td>1</td>\n",
       "      <td>1</td>\n",
       "      <td>2</td>\n",
       "      <td>0.26</td>\n",
       "      <td>0.2576</td>\n",
       "      <td>0.60</td>\n",
       "      <td>0.1642</td>\n",
       "      <td>11</td>\n",
       "      <td>108</td>\n",
       "      <td>119</td>\n",
       "    </tr>\n",
       "    <tr>\n",
       "      <th>17375</th>\n",
       "      <td>17376</td>\n",
       "      <td>2012-12-31</td>\n",
       "      <td>1</td>\n",
       "      <td>1</td>\n",
       "      <td>12</td>\n",
       "      <td>20</td>\n",
       "      <td>0</td>\n",
       "      <td>1</td>\n",
       "      <td>1</td>\n",
       "      <td>2</td>\n",
       "      <td>0.26</td>\n",
       "      <td>0.2576</td>\n",
       "      <td>0.60</td>\n",
       "      <td>0.1642</td>\n",
       "      <td>8</td>\n",
       "      <td>81</td>\n",
       "      <td>89</td>\n",
       "    </tr>\n",
       "    <tr>\n",
       "      <th>17376</th>\n",
       "      <td>17377</td>\n",
       "      <td>2012-12-31</td>\n",
       "      <td>1</td>\n",
       "      <td>1</td>\n",
       "      <td>12</td>\n",
       "      <td>21</td>\n",
       "      <td>0</td>\n",
       "      <td>1</td>\n",
       "      <td>1</td>\n",
       "      <td>1</td>\n",
       "      <td>0.26</td>\n",
       "      <td>0.2576</td>\n",
       "      <td>0.60</td>\n",
       "      <td>0.1642</td>\n",
       "      <td>7</td>\n",
       "      <td>83</td>\n",
       "      <td>90</td>\n",
       "    </tr>\n",
       "    <tr>\n",
       "      <th>17377</th>\n",
       "      <td>17378</td>\n",
       "      <td>2012-12-31</td>\n",
       "      <td>1</td>\n",
       "      <td>1</td>\n",
       "      <td>12</td>\n",
       "      <td>22</td>\n",
       "      <td>0</td>\n",
       "      <td>1</td>\n",
       "      <td>1</td>\n",
       "      <td>1</td>\n",
       "      <td>0.26</td>\n",
       "      <td>0.2727</td>\n",
       "      <td>0.56</td>\n",
       "      <td>0.1343</td>\n",
       "      <td>13</td>\n",
       "      <td>48</td>\n",
       "      <td>61</td>\n",
       "    </tr>\n",
       "    <tr>\n",
       "      <th>17378</th>\n",
       "      <td>17379</td>\n",
       "      <td>2012-12-31</td>\n",
       "      <td>1</td>\n",
       "      <td>1</td>\n",
       "      <td>12</td>\n",
       "      <td>23</td>\n",
       "      <td>0</td>\n",
       "      <td>1</td>\n",
       "      <td>1</td>\n",
       "      <td>1</td>\n",
       "      <td>0.26</td>\n",
       "      <td>0.2727</td>\n",
       "      <td>0.65</td>\n",
       "      <td>0.1343</td>\n",
       "      <td>12</td>\n",
       "      <td>37</td>\n",
       "      <td>49</td>\n",
       "    </tr>\n",
       "  </tbody>\n",
       "</table>\n",
       "<p>8734 rows × 17 columns</p>\n",
       "</div>"
      ],
      "text/plain": [
       "       instant      dteday  season  yr  mnth  hr  holiday  weekday  \\\n",
       "8645      8646  2012-01-01       1   1     1   0        0        0   \n",
       "8646      8647  2012-01-01       1   1     1   1        0        0   \n",
       "8647      8648  2012-01-01       1   1     1   2        0        0   \n",
       "8648      8649  2012-01-01       1   1     1   3        0        0   \n",
       "8649      8650  2012-01-01       1   1     1   4        0        0   \n",
       "...        ...         ...     ...  ..   ...  ..      ...      ...   \n",
       "17374    17375  2012-12-31       1   1    12  19        0        1   \n",
       "17375    17376  2012-12-31       1   1    12  20        0        1   \n",
       "17376    17377  2012-12-31       1   1    12  21        0        1   \n",
       "17377    17378  2012-12-31       1   1    12  22        0        1   \n",
       "17378    17379  2012-12-31       1   1    12  23        0        1   \n",
       "\n",
       "       workingday  weathersit  temp   atemp   hum  windspeed  casual  \\\n",
       "8645            0           1  0.36  0.3788  0.66     0.0000       5   \n",
       "8646            0           1  0.36  0.3485  0.66     0.1343      15   \n",
       "8647            0           1  0.32  0.3485  0.76     0.0000      16   \n",
       "8648            0           1  0.30  0.3333  0.81     0.0000      11   \n",
       "8649            0           1  0.28  0.3030  0.81     0.0896       0   \n",
       "...           ...         ...   ...     ...   ...        ...     ...   \n",
       "17374           1           2  0.26  0.2576  0.60     0.1642      11   \n",
       "17375           1           2  0.26  0.2576  0.60     0.1642       8   \n",
       "17376           1           1  0.26  0.2576  0.60     0.1642       7   \n",
       "17377           1           1  0.26  0.2727  0.56     0.1343      13   \n",
       "17378           1           1  0.26  0.2727  0.65     0.1343      12   \n",
       "\n",
       "       registered  cnt  \n",
       "8645           43   48  \n",
       "8646           78   93  \n",
       "8647           59   75  \n",
       "8648           41   52  \n",
       "8649            8    8  \n",
       "...           ...  ...  \n",
       "17374         108  119  \n",
       "17375          81   89  \n",
       "17376          83   90  \n",
       "17377          48   61  \n",
       "17378          37   49  \n",
       "\n",
       "[8734 rows x 17 columns]"
      ]
     },
     "execution_count": 92,
     "metadata": {},
     "output_type": "execute_result"
    }
   ],
   "source": [
    "df_2012 = df[df['yr']==1]\n",
    "df_2012"
   ]
  },
  {
   "cell_type": "markdown",
   "id": "0a98287a",
   "metadata": {},
   "source": [
    "Calculate the average count for each month"
   ]
  },
  {
   "cell_type": "code",
   "execution_count": 93,
   "id": "476f0ef7",
   "metadata": {},
   "outputs": [],
   "source": [
    "monthly_average = df_2012.groupby('mnth').agg({'cnt': 'mean'})"
   ]
  },
  {
   "cell_type": "markdown",
   "id": "ce3a0770",
   "metadata": {},
   "source": [
    "Define the seasons and map for each month to a season"
   ]
  },
  {
   "cell_type": "code",
   "execution_count": 94,
   "id": "e71d5888",
   "metadata": {},
   "outputs": [],
   "source": [
    "seasons = {1: 'Winter', 2: 'Winter', 3: 'Spring', 4: 'Spring', 5: 'Spring', \n",
    "           6: 'Summer', 7: 'Summer', 8: 'Summer', 9: 'Fall', 10: 'Fall', \n",
    "           11: 'Fall', 12: 'Winter'}\n",
    "df_2012['season'] = df_2012['mnth'].map(seasons)"
   ]
  },
  {
   "cell_type": "markdown",
   "id": "981c263d",
   "metadata": {},
   "source": [
    "Displaying the average count across months and seasons"
   ]
  },
  {
   "cell_type": "code",
   "execution_count": 95,
   "id": "eeb6d32d",
   "metadata": {},
   "outputs": [
    {
     "data": {
      "text/html": [
       "<div>\n",
       "<style scoped>\n",
       "    .dataframe tbody tr th:only-of-type {\n",
       "        vertical-align: middle;\n",
       "    }\n",
       "\n",
       "    .dataframe tbody tr th {\n",
       "        vertical-align: top;\n",
       "    }\n",
       "\n",
       "    .dataframe thead th {\n",
       "        text-align: right;\n",
       "    }\n",
       "</style>\n",
       "<table border=\"1\" class=\"dataframe\">\n",
       "  <thead>\n",
       "    <tr style=\"text-align: right;\">\n",
       "      <th></th>\n",
       "      <th>cnt</th>\n",
       "    </tr>\n",
       "    <tr>\n",
       "      <th>mnth</th>\n",
       "      <th></th>\n",
       "    </tr>\n",
       "  </thead>\n",
       "  <tbody>\n",
       "    <tr>\n",
       "      <th>1</th>\n",
       "      <td>130.558704</td>\n",
       "    </tr>\n",
       "    <tr>\n",
       "      <th>2</th>\n",
       "      <td>149.041908</td>\n",
       "    </tr>\n",
       "    <tr>\n",
       "      <th>3</th>\n",
       "      <td>221.904441</td>\n",
       "    </tr>\n",
       "    <tr>\n",
       "      <th>4</th>\n",
       "      <td>242.651811</td>\n",
       "    </tr>\n",
       "    <tr>\n",
       "      <th>5</th>\n",
       "      <td>263.259409</td>\n",
       "    </tr>\n",
       "    <tr>\n",
       "      <th>6</th>\n",
       "      <td>281.708333</td>\n",
       "    </tr>\n",
       "    <tr>\n",
       "      <th>7</th>\n",
       "      <td>273.665323</td>\n",
       "    </tr>\n",
       "    <tr>\n",
       "      <th>8</th>\n",
       "      <td>288.310484</td>\n",
       "    </tr>\n",
       "    <tr>\n",
       "      <th>9</th>\n",
       "      <td>303.573611</td>\n",
       "    </tr>\n",
       "    <tr>\n",
       "      <th>10</th>\n",
       "      <td>280.848870</td>\n",
       "    </tr>\n",
       "    <tr>\n",
       "      <th>11</th>\n",
       "      <td>212.623955</td>\n",
       "    </tr>\n",
       "    <tr>\n",
       "      <th>12</th>\n",
       "      <td>166.729111</td>\n",
       "    </tr>\n",
       "  </tbody>\n",
       "</table>\n",
       "</div>"
      ],
      "text/plain": [
       "             cnt\n",
       "mnth            \n",
       "1     130.558704\n",
       "2     149.041908\n",
       "3     221.904441\n",
       "4     242.651811\n",
       "5     263.259409\n",
       "6     281.708333\n",
       "7     273.665323\n",
       "8     288.310484\n",
       "9     303.573611\n",
       "10    280.848870\n",
       "11    212.623955\n",
       "12    166.729111"
      ]
     },
     "execution_count": 95,
     "metadata": {},
     "output_type": "execute_result"
    }
   ],
   "source": [
    "monthly_average"
   ]
  },
  {
   "cell_type": "code",
   "execution_count": 96,
   "id": "ecc7bc36",
   "metadata": {},
   "outputs": [
    {
     "data": {
      "text/html": [
       "<div>\n",
       "<style scoped>\n",
       "    .dataframe tbody tr th:only-of-type {\n",
       "        vertical-align: middle;\n",
       "    }\n",
       "\n",
       "    .dataframe tbody tr th {\n",
       "        vertical-align: top;\n",
       "    }\n",
       "\n",
       "    .dataframe thead th {\n",
       "        text-align: right;\n",
       "    }\n",
       "</style>\n",
       "<table border=\"1\" class=\"dataframe\">\n",
       "  <thead>\n",
       "    <tr style=\"text-align: right;\">\n",
       "      <th></th>\n",
       "      <th>cnt</th>\n",
       "    </tr>\n",
       "    <tr>\n",
       "      <th>season</th>\n",
       "      <th></th>\n",
       "    </tr>\n",
       "  </thead>\n",
       "  <tbody>\n",
       "    <tr>\n",
       "      <th>Fall</th>\n",
       "      <td>162.044975</td>\n",
       "    </tr>\n",
       "    <tr>\n",
       "      <th>Spring</th>\n",
       "      <td>134.398541</td>\n",
       "    </tr>\n",
       "    <tr>\n",
       "      <th>Summer</th>\n",
       "      <td>192.047380</td>\n",
       "    </tr>\n",
       "    <tr>\n",
       "      <th>Winter</th>\n",
       "      <td>83.602984</td>\n",
       "    </tr>\n",
       "  </tbody>\n",
       "</table>\n",
       "</div>"
      ],
      "text/plain": [
       "               cnt\n",
       "season            \n",
       "Fall    162.044975\n",
       "Spring  134.398541\n",
       "Summer  192.047380\n",
       "Winter   83.602984"
      ]
     },
     "execution_count": 96,
     "metadata": {},
     "output_type": "execute_result"
    }
   ],
   "source": [
    "seasonal_average"
   ]
  },
  {
   "cell_type": "markdown",
   "id": "efba4baa",
   "metadata": {},
   "source": [
    "### Question-2"
   ]
  },
  {
   "cell_type": "markdown",
   "id": "a7d5e752",
   "metadata": {},
   "source": [
    "#### 2. Create a DataFrame that shows the difference between average counts of each month in 2011 and 2012 with and without holidays.\n"
   ]
  },
  {
   "cell_type": "markdown",
   "id": "e5cd0163",
   "metadata": {},
   "source": [
    "#### Average counts of each month in 2011 with and without holidays"
   ]
  },
  {
   "cell_type": "markdown",
   "id": "3e3da622",
   "metadata": {},
   "source": [
    "Create a pivot table with year and month as index, holiday as columns, and count as values"
   ]
  },
  {
   "cell_type": "code",
   "execution_count": 97,
   "id": "a3d0a592",
   "metadata": {},
   "outputs": [],
   "source": [
    "table_2011 = df_2011.pivot_table(index=['yr', 'mnth'], columns='holiday', values='cnt', aggfunc='mean')"
   ]
  },
  {
   "cell_type": "markdown",
   "id": "5a676bd0",
   "metadata": {},
   "source": [
    "Calculate the difference between average counts with and without holidays"
   ]
  },
  {
   "cell_type": "code",
   "execution_count": 98,
   "id": "ece8beea",
   "metadata": {},
   "outputs": [],
   "source": [
    "table_2011['difference'] = table_2011[0] - table_2011[1]"
   ]
  },
  {
   "cell_type": "markdown",
   "id": "238b4d50",
   "metadata": {},
   "source": [
    "Reset index to make 'year' and 'month' columns"
   ]
  },
  {
   "cell_type": "code",
   "execution_count": 99,
   "id": "07f02e91",
   "metadata": {},
   "outputs": [],
   "source": [
    "table_2011 = table_2011.reset_index()"
   ]
  },
  {
   "cell_type": "code",
   "execution_count": 100,
   "id": "5fcf7d13",
   "metadata": {},
   "outputs": [
    {
     "name": "stdout",
     "output_type": "stream",
     "text": [
      "holiday  yr  mnth           0           1  difference\n",
      "0         0     1   56.007530   41.666667   14.340863\n",
      "1         0     2   75.372800   46.125000   29.247800\n",
      "2         0     3   87.732877         NaN         NaN\n",
      "3         0     4  132.005755  130.250000    1.755755\n",
      "4         0     5  182.948611  170.750000   12.198611\n",
      "5         0     6  199.322222         NaN         NaN\n",
      "6         0     7  187.913889  251.791667  -63.877778\n",
      "7         0     8  186.991792         NaN         NaN\n",
      "8         0     9  179.028860  139.625000   39.403860\n",
      "9         0    10  164.664812  213.208333  -48.543521\n",
      "10        0    11  145.013413  101.312500   43.700913\n",
      "11        0    12  119.785515   57.260870   62.524646\n"
     ]
    }
   ],
   "source": [
    "print(table_2011)"
   ]
  },
  {
   "cell_type": "markdown",
   "id": "c7be644d",
   "metadata": {},
   "source": [
    "#### Average counts of each month in 2012 with and without holidays"
   ]
  },
  {
   "cell_type": "markdown",
   "id": "2e049907",
   "metadata": {},
   "source": [
    "Similarly for the year 2012"
   ]
  },
  {
   "cell_type": "code",
   "execution_count": 101,
   "id": "efc0799d",
   "metadata": {},
   "outputs": [],
   "source": [
    "table_2012 = df_2012.pivot_table(index=['yr', 'mnth'], columns='holiday', values='cnt', aggfunc='mean')"
   ]
  },
  {
   "cell_type": "code",
   "execution_count": 102,
   "id": "a8ffa554",
   "metadata": {},
   "outputs": [],
   "source": [
    "table_2012['difference'] = table_2012[0] - table_2012[1]"
   ]
  },
  {
   "cell_type": "code",
   "execution_count": 103,
   "id": "54b0fe40",
   "metadata": {},
   "outputs": [],
   "source": [
    "table_2012 = table_2012.reset_index()"
   ]
  },
  {
   "cell_type": "code",
   "execution_count": 104,
   "id": "83528f02",
   "metadata": {},
   "outputs": [
    {
     "name": "stdout",
     "output_type": "stream",
     "text": [
      "holiday  yr  mnth           0           1  difference\n",
      "0         1     1  133.278098   90.404255   42.873843\n",
      "1         1     2  149.488789  136.043478   13.445311\n",
      "2         1     3  221.904441         NaN         NaN\n",
      "3         1     4  241.864553  265.416667  -23.552113\n",
      "4         1     5  263.641667  251.791667   11.850000\n",
      "5         1     6  281.708333         NaN         NaN\n",
      "6         1     7  272.505556  308.458333  -35.952778\n",
      "7         1     8  288.310484         NaN         NaN\n",
      "8         1     9  305.372126  251.416667   53.955460\n",
      "9         1    10  282.694444  228.250000   54.444444\n",
      "10        1    11  214.880597  181.125000   33.755597\n",
      "11        1    12  170.653686   44.043478  126.610207\n"
     ]
    }
   ],
   "source": [
    "print(table_2012)"
   ]
  },
  {
   "cell_type": "markdown",
   "id": "4baa58b8",
   "metadata": {},
   "source": [
    "### Question 3"
   ]
  },
  {
   "cell_type": "markdown",
   "id": "23875b2f",
   "metadata": {},
   "source": [
    "#### For every year, find which season had the highest count of total rental bikes, with casual and registered users separately;\n"
   ]
  },
  {
   "cell_type": "markdown",
   "id": "a234af4f",
   "metadata": {},
   "source": [
    "#### For the year 2011"
   ]
  },
  {
   "cell_type": "markdown",
   "id": "ceffa99e",
   "metadata": {},
   "source": [
    "Group the data by season and calculate the sum of casual, registered, and cnt"
   ]
  },
  {
   "cell_type": "code",
   "execution_count": 105,
   "id": "4eb665cb",
   "metadata": {},
   "outputs": [],
   "source": [
    "grouped = df_2011.groupby('season').sum()"
   ]
  },
  {
   "cell_type": "markdown",
   "id": "25407c0d",
   "metadata": {},
   "source": [
    "Find the season with the highest sum of casual rentals"
   ]
  },
  {
   "cell_type": "code",
   "execution_count": 106,
   "id": "972f0571",
   "metadata": {},
   "outputs": [
    {
     "name": "stdout",
     "output_type": "stream",
     "text": [
      "Season with highest sum of casual rentals:  Summer\n"
     ]
    }
   ],
   "source": [
    "highest_casual_season = grouped['casual'].idxmax()\n",
    "print(\"Season with highest sum of casual rentals: \", highest_casual_season)"
   ]
  },
  {
   "cell_type": "markdown",
   "id": "8a51e2cc",
   "metadata": {},
   "source": [
    "Find the season with the highest sum of registered rentals"
   ]
  },
  {
   "cell_type": "code",
   "execution_count": 107,
   "id": "098f0ca5",
   "metadata": {},
   "outputs": [
    {
     "name": "stdout",
     "output_type": "stream",
     "text": [
      "Season with highest sum of registered rentals:  Summer\n"
     ]
    }
   ],
   "source": [
    "highest_registered_season = grouped['registered'].idxmax()\n",
    "print(\"Season with highest sum of registered rentals: \", highest_registered_season)"
   ]
  },
  {
   "cell_type": "markdown",
   "id": "77a786cf",
   "metadata": {},
   "source": [
    "Find the season with the highest sum of total rentals"
   ]
  },
  {
   "cell_type": "code",
   "execution_count": 108,
   "id": "edfac404",
   "metadata": {},
   "outputs": [
    {
     "name": "stdout",
     "output_type": "stream",
     "text": [
      "Season with highest sum of total rentals:  Summer\n"
     ]
    }
   ],
   "source": [
    "highest_cnt_season = grouped['cnt'].idxmax()\n",
    "print(\"Season with highest sum of total rentals: \", highest_cnt_season)"
   ]
  },
  {
   "cell_type": "markdown",
   "id": "9cae1850",
   "metadata": {},
   "source": [
    "#### Similarly for 2012"
   ]
  },
  {
   "cell_type": "code",
   "execution_count": 109,
   "id": "65d151e5",
   "metadata": {},
   "outputs": [],
   "source": [
    "grouped_2012 = df_2012.groupby('season').sum()"
   ]
  },
  {
   "cell_type": "code",
   "execution_count": 110,
   "id": "45b49261",
   "metadata": {},
   "outputs": [
    {
     "name": "stdout",
     "output_type": "stream",
     "text": [
      "Season with highest sum of casual rentals:  Summer\n"
     ]
    }
   ],
   "source": [
    "highest_casual_season_2012 = grouped_2012['casual'].idxmax()\n",
    "print(\"Season with highest sum of casual rentals: \", highest_casual_season_2012)"
   ]
  },
  {
   "cell_type": "code",
   "execution_count": 111,
   "id": "a669166f",
   "metadata": {},
   "outputs": [
    {
     "name": "stdout",
     "output_type": "stream",
     "text": [
      "Season with highest sum of registered rentals:  Summer\n"
     ]
    }
   ],
   "source": [
    "highest_registered_season_2012 = grouped_2012['registered'].idxmax()\n",
    "print(\"Season with highest sum of registered rentals: \", highest_registered_season_2012)"
   ]
  },
  {
   "cell_type": "code",
   "execution_count": 112,
   "id": "c439ad11",
   "metadata": {},
   "outputs": [
    {
     "name": "stdout",
     "output_type": "stream",
     "text": [
      "Season with highest sum of total rentals:  Summer\n"
     ]
    }
   ],
   "source": [
    "highest_cnt_season_2012 = grouped_2012['cnt'].idxmax()\n",
    "print(\"Season with highest sum of total rentals: \", highest_cnt_season_2012)"
   ]
  },
  {
   "cell_type": "markdown",
   "id": "2de44a25",
   "metadata": {},
   "source": [
    "### Question 4"
   ]
  },
  {
   "cell_type": "markdown",
   "id": "98a6bc2c",
   "metadata": {},
   "source": [
    "#### For every year, find the top 3 months with the lowest number of count of total rental bikes with casual and registered users separately\n"
   ]
  },
  {
   "cell_type": "markdown",
   "id": "1a593418",
   "metadata": {},
   "source": [
    "#### For the year 2011"
   ]
  },
  {
   "cell_type": "code",
   "execution_count": 115,
   "id": "f7ade94e",
   "metadata": {},
   "outputs": [],
   "source": [
    "# Group the data by year and month, and sum the casual and registered columns\n",
    "group2_2011 = df_2011.groupby(['yr', 'mnth'], as_index=False).sum()[['yr', 'mnth', 'casual', 'registered']]\n",
    "\n",
    "# Find the top 3 months with the lowest number of count for casual users\n",
    "casual_low_2011 = group2_2011.sort_values(by='casual').groupby('yr').head(3)\n",
    "\n",
    "# Find the top 3 months with the lowest number of count for registered users\n",
    "registered_low_2011 = group2_2011.sort_values(by='registered').groupby('yr').head(3)"
   ]
  },
  {
   "cell_type": "markdown",
   "id": "602330e6",
   "metadata": {},
   "source": [
    "Printing the result"
   ]
  },
  {
   "cell_type": "code",
   "execution_count": 116,
   "id": "739fc712",
   "metadata": {},
   "outputs": [
    {
     "name": "stdout",
     "output_type": "stream",
     "text": [
      "    yr  mnth  casual  registered\n",
      "0    0     1    3073       35116\n",
      "1    0     2    6242       41973\n",
      "11   0    12    8448       78875\n",
      "   yr  mnth  casual  registered\n",
      "0   0     1    3073       35116\n",
      "1   0     2    6242       41973\n",
      "2   0     3   12826       51219\n"
     ]
    }
   ],
   "source": [
    "print(casual_low_2011)\n",
    "print(registered_low_2011)"
   ]
  },
  {
   "cell_type": "markdown",
   "id": "e6260e73",
   "metadata": {},
   "source": [
    "#### Similarly, for the year 2012"
   ]
  },
  {
   "cell_type": "code",
   "execution_count": 117,
   "id": "67346895",
   "metadata": {},
   "outputs": [],
   "source": [
    "# Group the data by year and month, and sum the casual and registered columns\n",
    "group2_2012 = df_2012.groupby(['yr', 'mnth'], as_index=False).sum()[['yr', 'mnth', 'casual', 'registered']]\n",
    "\n",
    "# Find the top 3 months with the lowest number of count for casual users\n",
    "casual_low_2012 = group2_2012.sort_values(by='casual').groupby('yr').head(3)\n",
    "\n",
    "# Find the top 3 months with the lowest number of count for registered users\n",
    "registered_low_2012 = group2_2012.sort_values(by='registered').groupby('yr').head(3)"
   ]
  },
  {
   "cell_type": "code",
   "execution_count": 118,
   "id": "08486d36",
   "metadata": {},
   "outputs": [
    {
     "name": "stdout",
     "output_type": "stream",
     "text": [
      "    yr  mnth  casual  registered\n",
      "1    1     2    8721       94416\n",
      "0    1     1    8969       87775\n",
      "11   1    12   13245      110468\n",
      "    yr  mnth  casual  registered\n",
      "0    1     1    8969       87775\n",
      "1    1     2    8721       94416\n",
      "11   1    12   13245      110468\n"
     ]
    }
   ],
   "source": [
    "print(casual_low_2012)\n",
    "print(registered_low_2012)"
   ]
  },
  {
   "cell_type": "markdown",
   "id": "acad547c",
   "metadata": {},
   "source": [
    "### Question-5"
   ]
  },
  {
   "cell_type": "markdown",
   "id": "0239bbc0",
   "metadata": {},
   "source": [
    "#### Plotting the distribution of rental bike counts for 2011 using: a)Season-wise monthly distribution of counts b) Yearly-wise distribution of counts"
   ]
  },
  {
   "cell_type": "markdown",
   "id": "8692e8ab",
   "metadata": {},
   "source": [
    "#### For the year 2011"
   ]
  },
  {
   "cell_type": "code",
   "execution_count": 126,
   "id": "76800d5f",
   "metadata": {},
   "outputs": [
    {
     "data": {
      "image/png": "[encoded data removed]",
      "text/plain": [
       "<Figure size 640x480 with 1 Axes>"
      ]
     },
     "metadata": {},
     "output_type": "display_data"
    }
   ],
   "source": [
    "# Group the data by season and month, and sum the count column\n",
    "grouped = df_2011.groupby(['season', 'mnth'], as_index=False).sum()[['season', 'mnth', 'cnt']]\n",
    "\n",
    "# Plot the distribution of rental bike counts for 2011\n",
    "fig, ax = plt.subplots()\n",
    "for i, season in enumerate(['Spring', 'Summer', 'Fall', 'Winter']):\n",
    "    season_data = grouped[grouped['season'] == i+1]['cnt']\n",
    "    ax.bar(season_data.index, season_data.values, color=['red', 'yellow', 'green', 'blue'][i], label=season)\n",
    "ax.set_title('Distribution of Rental Bike Counts in 2011')\n",
    "ax.set_xlabel('Month')\n",
    "ax.set_ylabel('Count')\n",
    "ax.legend()\n",
    "plt.show()"
   ]
  },
  {
   "cell_type": "code",
   "execution_count": 39,
   "id": "aa3ca1b0",
   "metadata": {},
   "outputs": [
    {
     "data": {
      "image/png": "[encoded data removed]",
      "text/plain": [
       "<Figure size 640x480 with 1 Axes>"
      ]
     },
     "metadata": {},
     "output_type": "display_data"
    }
   ],
   "source": [
    "# Group the data by year and month, and sum the count column\n",
    "grouped = df_2011.groupby(['mnth'], as_index=False).sum()[['mnth', 'cnt']]\n",
    "\n",
    "# Plot the distribution of rental bike counts for 2011\n",
    "fig, ax = plt.subplots()\n",
    "ax.bar(grouped['mnth'], grouped['cnt'])\n",
    "ax.set_title('Distribution of Rental Bike Counts in 2011')\n",
    "ax.set_xlabel('Month')\n",
    "ax.set_ylabel('Count')\n",
    "plt.show()"
   ]
  },
  {
   "cell_type": "markdown",
   "id": "dba930a9",
   "metadata": {},
   "source": [
    "#### For the year 2012"
   ]
  },
  {
   "cell_type": "markdown",
   "id": "f7a93b32",
   "metadata": {},
   "source": [
    "#### a) Holiday wise monthly distribution of counts"
   ]
  },
  {
   "cell_type": "code",
   "execution_count": 44,
   "id": "3e845f35",
   "metadata": {},
   "outputs": [
    {
     "data": {
      "image/png": "[encoded data removed]",
      "text/plain": [
       "<Figure size 640x480 with 1 Axes>"
      ]
     },
     "metadata": {},
     "output_type": "display_data"
    }
   ],
   "source": [
    "# Group the data by holiday, and sum the count column\n",
    "grouped = df_2012.groupby(['holiday'], as_index=False).sum()[['holiday', 'cnt']]\n",
    "\n",
    "# Plot the distribution of rental bike counts for 2012 by holiday\n",
    "fig, ax = plt.subplots()\n",
    "ax.bar(grouped['holiday'], grouped['cnt'])\n",
    "ax.set_title('Distribution of Rental Bike Counts in 2012 by Holiday')\n",
    "ax.set_xlabel('Holiday')\n",
    "ax.set_ylabel('Count')\n",
    "plt.show()"
   ]
  },
  {
   "cell_type": "markdown",
   "id": "4f248b61",
   "metadata": {},
   "source": [
    "#### b) Yearly-wise distribution of counts"
   ]
  },
  {
   "cell_type": "code",
   "execution_count": 41,
   "id": "b953e5db",
   "metadata": {},
   "outputs": [
    {
     "data": {
      "image/png": "[encoded data removed]",
      "text/plain": [
       "<Figure size 640x480 with 1 Axes>"
      ]
     },
     "metadata": {},
     "output_type": "display_data"
    }
   ],
   "source": [
    "# Group the data by year and month, and sum the count column\n",
    "grouped = df_2012.groupby(['mnth'], as_index=False).sum()[['mnth', 'cnt']]\n",
    "\n",
    "# Plot the distribution of rental bike counts for 2011\n",
    "fig, ax = plt.subplots()\n",
    "ax.bar(grouped['mnth'], grouped['cnt'])\n",
    "ax.set_title('Distribution of Rental Bike Counts in 2012')\n",
    "ax.set_xlabel('Month')\n",
    "ax.set_ylabel('Count')\n",
    "plt.show()"
   ]
  },
  {
   "cell_type": "markdown",
   "id": "8acb5997",
   "metadata": {},
   "source": [
    "### Question 6"
   ]
  },
  {
   "cell_type": "markdown",
   "id": "ac8808c0",
   "metadata": {},
   "source": [
    "#### Plotting the Correlation between hourly/daily bike rental count and environmental settings, including weather, temperature, humidity and windspeed"
   ]
  },
  {
   "cell_type": "markdown",
   "id": "40cd948b",
   "metadata": {},
   "source": [
    "Selecting the columns to be used for the analysis"
   ]
  },
  {
   "cell_type": "code",
   "execution_count": 45,
   "id": "ac26f93e",
   "metadata": {},
   "outputs": [],
   "source": [
    "columns = ['temp', 'atemp', 'hum', 'windspeed', 'cnt']\n",
    "df = df[columns]"
   ]
  },
  {
   "cell_type": "markdown",
   "id": "2c282489",
   "metadata": {},
   "source": [
    "Compute the pairwise correlation matrix"
   ]
  },
  {
   "cell_type": "code",
   "execution_count": 46,
   "id": "3c3bf51a",
   "metadata": {},
   "outputs": [],
   "source": [
    "corr = df.corr()"
   ]
  },
  {
   "cell_type": "markdown",
   "id": "1520e520",
   "metadata": {},
   "source": [
    "Plot the correlation matrix using a heatmap"
   ]
  },
  {
   "cell_type": "code",
   "execution_count": 49,
   "id": "59630745",
   "metadata": {},
   "outputs": [
    {
     "data": {
      "image/png": "[encoded data removed]",
      "text/plain": [
       "<Figure size 640x480 with 2 Axes>"
      ]
     },
     "metadata": {},
     "output_type": "display_data"
    }
   ],
   "source": [
    "sns.heatmap(corr, annot=True, cmap='coolwarm')\n",
    "plt.title('Correlation between Bike Rental Count and Environmental Settings')\n",
    "plt.show()"
   ]
  },
  {
   "cell_type": "markdown",
   "id": "40dab970",
   "metadata": {},
   "source": [
    "The above correlation shows that the attributes atemp and temp have a very high positive correlation"
   ]
  },
  {
   "cell_type": "markdown",
   "id": "3ae4c4d1",
   "metadata": {},
   "source": [
    "### Question 7"
   ]
  },
  {
   "cell_type": "markdown",
   "id": "599b863a",
   "metadata": {},
   "source": [
    "#### Prediction of bike rental count hourly or daily based on the environmental and seasonal settings"
   ]
  },
  {
   "cell_type": "markdown",
   "id": "5980a249",
   "metadata": {},
   "source": [
    "Input Split"
   ]
  },
  {
   "cell_type": "code",
   "execution_count": 144,
   "id": "7183706f",
   "metadata": {},
   "outputs": [],
   "source": [
    "x = df.drop(columns = ['dteday','atemp','casual','registered','cnt'],axis=1)\n",
    "y = df['cnt']"
   ]
  },
  {
   "cell_type": "markdown",
   "id": "7b1c6aa4",
   "metadata": {},
   "source": [
    "dropping atemp as it is highly correlated to temp, dropping casual and registered as their sum gives us count. So those two are extra columns."
   ]
  },
  {
   "cell_type": "markdown",
   "id": "a8818c95",
   "metadata": {},
   "source": [
    "Model Training"
   ]
  },
  {
   "cell_type": "code",
   "execution_count": 145,
   "id": "933cc714",
   "metadata": {},
   "outputs": [],
   "source": [
    "from sklearn.linear_model import LinearRegression, Ridge, HuberRegressor, ElasticNetCV\n",
    "from sklearn.tree import DecisionTreeRegressor\n",
    "from sklearn.ensemble import RandomForestRegressor, GradientBoostingRegressor, ExtraTreesRegressor\n",
    "\n",
    "models = [LinearRegression(),\n",
    "         Ridge(),\n",
    "         HuberRegressor(),\n",
    "         ElasticNetCV(),\n",
    "         DecisionTreeRegressor(),\n",
    "         RandomForestRegressor(),\n",
    "         ExtraTreesRegressor(),\n",
    "         GradientBoostingRegressor()]"
   ]
  },
  {
   "cell_type": "code",
   "execution_count": 146,
   "id": "501be096",
   "metadata": {},
   "outputs": [],
   "source": [
    "from sklearn import model_selection\n",
    "def train(model):\n",
    "    kfold = model_selection.KFold(n_splits=5)\n",
    "    pred = model_selection.cross_val_score(model, x, y, cv=kfold, scoring='neg_mean_squared_error')\n",
    "    cv_score = pred.mean()\n",
    "    print('Model:',model)\n",
    "    print('CV score:', abs(cv_score))"
   ]
  },
  {
   "cell_type": "code",
   "execution_count": 147,
   "id": "d58e1738",
   "metadata": {},
   "outputs": [
    {
     "name": "stdout",
     "output_type": "stream",
     "text": [
      "Model: LinearRegression()\n",
      "CV score: 21378.34221572383\n",
      "Model: Ridge()\n",
      "CV score: 21369.597311434452\n",
      "Model: HuberRegressor()\n",
      "CV score: 26498.41793214878\n",
      "Model: ElasticNetCV()\n",
      "CV score: 30840.57941343619\n",
      "Model: DecisionTreeRegressor()\n",
      "CV score: 7214.327218352361\n",
      "Model: RandomForestRegressor()\n",
      "CV score: 4704.841407142097\n",
      "Model: ExtraTreesRegressor()\n",
      "CV score: 3961.143140853842\n",
      "Model: GradientBoostingRegressor()\n",
      "CV score: 6858.555591827008\n"
     ]
    }
   ],
   "source": [
    "for model in models:\n",
    "    train(model)"
   ]
  },
  {
   "cell_type": "code",
   "execution_count": 148,
   "id": "fee1c7ad",
   "metadata": {},
   "outputs": [],
   "source": [
    "from sklearn.model_selection import train_test_split\n",
    "x_train, x_test, y_train, y_test = train_test_split(x, y, test_size=0.25, random_state=42)"
   ]
  },
  {
   "cell_type": "markdown",
   "id": "e458ac72",
   "metadata": {},
   "source": [
    "Using random forest regressor"
   ]
  },
  {
   "cell_type": "code",
   "execution_count": 149,
   "id": "fb0b3c6e",
   "metadata": {},
   "outputs": [],
   "source": [
    "model = RandomForestRegressor()\n",
    "model.fit(x_train, y_train)\n",
    "y_pred = model.predict(x_test)"
   ]
  },
  {
   "cell_type": "markdown",
   "id": "f2c97e60",
   "metadata": {},
   "source": [
    "Plot the error difference"
   ]
  },
  {
   "cell_type": "code",
   "execution_count": 150,
   "id": "6cfbb5c4",
   "metadata": {},
   "outputs": [
    {
     "data": {
      "image/png": "[encoded data removed]",
      "text/plain": [
       "<Figure size 640x480 with 1 Axes>"
      ]
     },
     "metadata": {},
     "output_type": "display_data"
    }
   ],
   "source": [
    "# plot the error difference\n",
    "error = y_test - y_pred\n",
    "fig, ax = plt.subplots()\n",
    "ax.scatter(y_test, error)\n",
    "ax.axhline(lw=3, color='black')\n",
    "ax.set_xlabel('Observed')\n",
    "ax.set_ylabel('Error')\n",
    "plt.show()\n"
   ]
  },
  {
   "cell_type": "code",
   "execution_count": null,
   "id": "c25dde81",
   "metadata": {},
   "outputs": [],
   "source": []
  }
 ],
 "metadata": {
  "kernelspec": {
   "display_name": "Python 3 (ipykernel)",
   "language": "python",
   "name": "python3"
  },
  "language_info": {
   "codemirror_mode": {
    "name": "ipython",
    "version": 3
   },
   "file_extension": ".py",
   "mimetype": "text/x-python",
   "name": "python",
   "nbconvert_exporter": "python",
   "pygments_lexer": "ipython3",
   "version": "3.9.13"
  }
 },
 "nbformat": 4,
 "nbformat_minor": 5
}
